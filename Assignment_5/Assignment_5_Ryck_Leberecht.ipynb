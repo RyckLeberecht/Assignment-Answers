{
 "cells": [
  {
   "cell_type": "code",
   "execution_count": 1,
   "id": "3e0b9f98",
   "metadata": {},
   "outputs": [
    {
     "data": {
      "text/html": [
       "<div class=\"krn-spql\"><div class=\"magic\">Endpoint set to: https://sparql.uniprot.org/sparql</div></div>"
      ],
      "text/plain": [
       "Endpoint set to: https://sparql.uniprot.org/sparql\n"
      ]
     },
     "metadata": {},
     "output_type": "display_data"
    }
   ],
   "source": [
    "%endpoint https://sparql.uniprot.org/sparql"
   ]
  },
  {
   "cell_type": "code",
   "execution_count": 21,
   "id": "e65395e1",
   "metadata": {},
   "outputs": [
    {
     "data": {
      "text/html": [
       "<div class=\"krn-spql\"><table><tr class=hdr><th>count</th></tr><tr class=odd><td class=val>378979161</td></tr></table><div class=\"tinfo\">Total: 1, Shown: 1</div></div>"
      ]
     },
     "metadata": {},
     "output_type": "display_data"
    }
   ],
   "source": [
    "## Q1: How many protein records are in UniProt?\n",
    "\n",
    "PREFIX rdf: <http://www.w3.org/1999/02/22-rdf-syntax-ns#>\n",
    "PREFIX up: <http://purl.uniprot.org/core/>\n",
    "\n",
    "SELECT (COUNT(?protein) AS ?count)\n",
    "WHERE {\n",
    "  ?protein a up:Protein .\n",
    "}"
   ]
  },
  {
   "cell_type": "code",
   "execution_count": 23,
   "id": "82534431",
   "metadata": {},
   "outputs": [
    {
     "data": {
      "text/html": [
       "<div class=\"krn-spql\"><table><tr class=hdr><th>count</th></tr><tr class=odd><td class=val>136447</td></tr></table><div class=\"tinfo\">Total: 1, Shown: 1</div></div>"
      ]
     },
     "metadata": {},
     "output_type": "display_data"
    }
   ],
   "source": [
    "## Q2: How many Arabidopsis thaliana protein records are in UniProt?\n",
    "## Note: Tax-id of Arabidopsis thaliana is 3702!\n",
    "\n",
    "PREFIX rdf: <http://www.w3.org/1999/02/22-rdf-syntax-ns#>\n",
    "PREFIX up: <http://purl.uniprot.org/core/>\n",
    "PREFIX taxonomy: <http://purl.uniprot.org/taxonomy/>\n",
    "\n",
    "SELECT (COUNT(?protein) AS ?count)\n",
    "WHERE {\n",
    "  ?protein a up:Protein .\n",
    "  ?protein up:organism taxonomy:3702 .\n",
    "}"
   ]
  },
  {
   "cell_type": "code",
   "execution_count": 22,
   "id": "7aad1b9b",
   "metadata": {},
   "outputs": [
    {
     "data": {
      "text/html": [
       "<div class=\"krn-spql\"><table><tr class=hdr><th>name</th>\n",
       "<th>picture</th></tr><tr class=odd><td class=val>Arabidopsis thaliana</td>\n",
       "<td class=val><a href=\"https://upload.wikimedia.org/wikipedia/commons/3/39/Arabidopsis.jpg\" target=\"_other\">https://upload.wikimedia.org/wikipedia/commons/3/39/Arabidopsis.jpg</a></td></tr><tr class=even><td class=val>Arabidopsis thaliana</td>\n",
       "<td class=val><a href=\"https://upload.wikimedia.org/wikipedia/commons/thumb/6/60/Arabidopsis_thaliana_inflorescencias.jpg/800px-Arabidopsis_thaliana_inflorescencias.jpg\" target=\"_other\">https://upload.wikimedia.org/wikipedia/commons/thumb/6/60/Arabidopsis_thaliana_inflorescencias.jpg/800px-Arabidopsis_thaliana_inflorescencias.jpg</a></td></tr></table><div class=\"tinfo\">Total: 2, Shown: 2</div></div>"
      ]
     },
     "metadata": {},
     "output_type": "display_data"
    }
   ],
   "source": [
    "## Q3: Can you retrieve pictures of Arabidopsis thaliana from UniProt? \n",
    "\n",
    "PREFIX foaf: <http://xmlns.com/foaf/0.1/> \n",
    "PREFIX up: <http://purl.uniprot.org/core/>\n",
    "SELECT ?name ?picture                             \n",
    "WHERE {\n",
    "    ?entries  foaf:depiction  ?picture .               # Select all images\n",
    "    ?entries  up:scientificName ?name .                # Select all scientific names\n",
    "    FILTER CONTAINS(?name, \"Arabidopsis thaliana\") .   # Filter for 'Arabidopsis thaliana'\n",
    "}"
   ]
  },
  {
   "cell_type": "code",
   "execution_count": 61,
   "id": "1dab83a3",
   "metadata": {},
   "outputs": [
    {
     "data": {
      "text/html": [
       "<div class=\"krn-spql\"><table><tr class=hdr><th>description</th></tr><tr class=odd><td class=val>all-trans-beta-carotene + 4 H(+) + 2 O2 + 4 reduced [2Fe-2S]-[ferredoxin] = all-trans-zeaxanthin + 2 H2O + 4 oxidized [2Fe-2S]-[ferredoxin].</td></tr></table><div class=\"tinfo\">Total: 1, Shown: 1</div></div>"
      ]
     },
     "metadata": {},
     "output_type": "display_data"
    }
   ],
   "source": [
    "## Q4: What is the description of the enzyme activity of UniProt Protein Q9SZZ8?\n",
    "## Note: I understand the documentation found in the link below in the way that rdfs:comment provides the description.\n",
    "## Note: Sadly, I don't get any results, therefore i use rdfs:label.\n",
    "## https://sparql.uniprot.org/sparql/?query=PREFIX%20up:%3chttp://purl.uniprot.org/core/%3e%20DESCRIBE%20up:activity%20FROM%20up:\n",
    "\n",
    "PREFIX rdfs:<http://www.w3.org/2000/01/rdf-schema#>\n",
    "PREFIX up:<http://purl.uniprot.org/core/>\n",
    "PREFIX uniprot:<http://purl.uniprot.org/uniprot/> \n",
    "\n",
    "SELECT ?description\n",
    "WHERE {\n",
    "    uniprot:Q9SZZ8 up:enzyme ?enzyme .  # Select the enzyme\n",
    "    ?enzyme up:activity ?activity .     # Select the enzyme activity\n",
    "    ?activity rdfs:label ?description . # Select the activities description\n",
    "}"
   ]
  },
  {
   "cell_type": "code",
   "execution_count": 86,
   "id": "ff7110b1",
   "metadata": {},
   "outputs": [
    {
     "data": {
      "text/html": [
       "<div class=\"krn-spql\"><table><tr class=hdr><th>id</th>\n",
       "<th>created</th></tr><tr class=odd><td class=val>A0A6V6GZ78_9EUKA</td>\n",
       "<td class=val>2020-12-02</td></tr><tr class=even><td class=val>A0A6V6HCP1_9EUKA</td>\n",
       "<td class=val>2020-12-02</td></tr><tr class=odd><td class=val>A0A6V6HQN1_9EUKA</td>\n",
       "<td class=val>2020-12-02</td></tr><tr class=even><td class=val>A0A6V6I3L3_9EUKA</td>\n",
       "<td class=val>2020-12-02</td></tr><tr class=odd><td class=val>A0A6V6JH45_9EUKA</td>\n",
       "<td class=val>2020-12-02</td></tr></table><div class=\"tinfo\">Total: 5, Shown: 5</div></div>"
      ]
     },
     "metadata": {},
     "output_type": "display_data"
    }
   ],
   "source": [
    "## Q5: How to retrieve the proteins ids, and date of submission, for 5 proteins that have been added to UniProt this year \n",
    "## Note: I interpreted the question as \"retrieve the 5 latest submissions\".\n",
    "## Note: To filter for a specific year (2020 in this case) the folloing line has to be added to the query\n",
    "## FILTER(YEAR(?created) = 2020) .\n",
    "\n",
    "PREFIX rdfs:<http://www.w3.org/2000/01/rdf-schema#>\n",
    "PREFIX up: <http://purl.uniprot.org/core/>\n",
    "\n",
    "SELECT ?id ?created\n",
    "WHERE {\n",
    "    ?protein a up:Protein .\n",
    "    ?protein up:mnemonic ?id .\n",
    "    ?protein up:created ?created .\n",
    "    FILTER(YEAR(?created) = 2020) .\n",
    "}\n",
    "ORDER BY DESC(?created)      \n",
    "LIMIT 5                  "
   ]
  },
  {
   "cell_type": "code",
   "execution_count": 94,
   "id": "0fb5e057",
   "metadata": {},
   "outputs": [
    {
     "data": {
      "text/html": [
       "<div class=\"krn-spql\"><table><tr class=hdr><th>speciesCount</th></tr><tr class=odd><td class=val>1995728</td></tr></table><div class=\"tinfo\">Total: 1, Shown: 1</div></div>"
      ]
     },
     "metadata": {},
     "output_type": "display_data"
    }
   ],
   "source": [
    "## Q6: How  many species are in the UniProt taxonomy?\n",
    "\n",
    "PREFIX rdfs:<http://www.w3.org/2000/01/rdf-schema#>\n",
    "PREFIX up: <http://purl.uniprot.org/core/>\n",
    "\n",
    "SELECT (COUNT(DISTINCT ?species) AS ?speciesCount)\n",
    "WHERE { \n",
    "    ?species a up:Taxon .\n",
    "    ?species up:rank up:Species .\n",
    "}"
   ]
  },
  {
   "cell_type": "code",
   "execution_count": 2,
   "id": "eff876fe",
   "metadata": {},
   "outputs": [
    {
     "data": {
      "text/html": [
       "<div class=\"krn-spql\"><table><tr class=hdr><th>speciesCount</th></tr><tr class=odd><td class=val>1078469</td></tr></table><div class=\"tinfo\">Total: 1, Shown: 1</div></div>"
      ]
     },
     "metadata": {},
     "output_type": "display_data"
    }
   ],
   "source": [
    "## Q7: How many species have at least one protein record?\n",
    "## Note: Only difference to the question before is, that I select Species which are listed under Proteins.\n",
    "\n",
    "PREFIX rdfs:<http://www.w3.org/2000/01/rdf-schema#>\n",
    "PREFIX up: <http://purl.uniprot.org/core/>\n",
    "\n",
    "SELECT (COUNT(DISTINCT ?species) AS ?speciesCount)\n",
    "WHERE { \n",
    "    ?upProtein a up:Protein .         \n",
    "    ?upProtein up:organism ?species .\n",
    "    ?species a up:Taxon .\n",
    "    ?species up:rank up:Species .\n",
    "}"
   ]
  },
  {
   "cell_type": "code",
   "execution_count": 16,
   "id": "bc5bb22c",
   "metadata": {},
   "outputs": [
    {
     "data": {
      "text/html": [
       "<div class=\"krn-spql\"><div class=\"magic\">Endpoint set to: https://sparql.uniprot.org/sparql</div></div>"
      ],
      "text/plain": [
       "Endpoint set to: https://sparql.uniprot.org/sparql\n"
      ]
     },
     "metadata": {},
     "output_type": "display_data"
    },
    {
     "data": {
      "text/html": [
       "<div class=\"krn-spql\"><table><tr class=hdr><th>locus_name</th>\n",
       "<th>gene_name</th></tr><tr class=odd><td class=val>At5g46700</td>\n",
       "<td class=val>TRN2</td></tr><tr class=even><td class=val>At1g20330</td>\n",
       "<td class=val>SMT2</td></tr><tr class=odd><td class=val>At2g20120</td>\n",
       "<td class=val>COV1</td></tr><tr class=even><td class=val>At5g46700</td>\n",
       "<td class=val>TRN2</td></tr><tr class=odd><td class=val>At5g13300</td>\n",
       "<td class=val>AGD3</td></tr></table><div class=\"tinfo\">Total: 5, Shown: 5</div></div>"
      ]
     },
     "metadata": {},
     "output_type": "display_data"
    }
   ],
   "source": [
    "%endpoint https://sparql.uniprot.org/sparql\n",
    "## Q8: How to find the AGI codes and gene names for all Arabidopsis thaliana  proteins that have a protein function annotation description that mentions “pattern formation”?\n",
    "## Note: I use skos (Simple Knowledge Organization System) to get the gene names\n",
    "## Note: I limit the shown hits to 5 for better readability.\n",
    "\n",
    "PREFIX skos:<http://www.w3.org/2004/02/skos/core#> \n",
    "PREFIX up:<http://purl.uniprot.org/core/> \n",
    "PREFIX taxonomy:<http://purl.uniprot.org/taxonomy/> \n",
    "\n",
    "SELECT ?locus_name ?gene_name\n",
    "WHERE {\n",
    "    ?upProtein a up:Protein .\n",
    "    ?upProtein up:organism taxonomy:3702 .                      # Select all Arabidopsis thaliana proteins\n",
    "    ?upProtein up:classifiedWith ?goid .                        # Select the concept of the protein\n",
    "    ?goid rdfs:label ?description .                             # Select the description (string) of the concept\n",
    "    FILTER CONTAINS(LCASE(?description), \"pattern formation\") . # filter for the keywords\n",
    "    ?upProtein up:encodedBy ?gene .                             # Select the gene the protein is encoded by\n",
    "    ?gene up:locusName ?locus_name .                            # Get the locus name\n",
    "    ?gene skos:prefLabel ?gene_name .                           # Get the gene name\n",
    "}\n",
    "LIMIT 5"
   ]
  },
  {
   "cell_type": "code",
   "execution_count": 10,
   "id": "17e6ff54",
   "metadata": {},
   "outputs": [
    {
     "data": {
      "text/html": [
       "<div class=\"krn-spql\"><div class=\"magic\">Endpoint set to: https://rdf.metanetx.org/sparql</div></div>"
      ],
      "text/plain": [
       "Endpoint set to: https://rdf.metanetx.org/sparql\n"
      ]
     },
     "metadata": {},
     "output_type": "display_data"
    },
    {
     "data": {
      "text/html": [
       "<div class=\"krn-spql\"><table><tr class=hdr><th>reac_id</th>\n",
       "<th>mnxr</th></tr><tr class=odd><td class=val>mnxr165934</td>\n",
       "<td class=val><a href=\"https://rdf.metanetx.org/reac/MNXR165934\" target=\"_other\">https://rdf.metanetx.org/reac/MNXR165934</a></td></tr><tr class=even><td class=val>mnxr145046c3</td>\n",
       "<td class=val><a href=\"https://rdf.metanetx.org/reac/MNXR145046\" target=\"_other\">https://rdf.metanetx.org/reac/MNXR145046</a></td></tr></table><div class=\"tinfo\">Total: 2, Shown: 2</div></div>"
      ]
     },
     "metadata": {},
     "output_type": "display_data"
    }
   ],
   "source": [
    "%endpoint https://rdf.metanetx.org/sparql  \n",
    "\n",
    "## Q9: What is the MetaNetX Reaction identifier (starts with “mnxr”) for the UniProt Protein uniprotkb:Q18A79?\n",
    "## Note: This code is based on the code found in this manual: \n",
    "## https://edu.sib.swiss/pluginfile.php/8024/mod_resource/content/4/SWAT4HCLS%202019_MP.pdf\n",
    "\n",
    "PREFIX rdfs: <http://www.w3.org/2000/01/rdf-schema#>\n",
    "PREFIX uniprotkb: <http://purl.uniprot.org/uniprot/> \n",
    "PREFIX mnx: <https://rdf.metanetx.org/schema/>\n",
    "\n",
    "SELECT DISTINCT ?reac_id ?mnxr\n",
    "WHERE {\n",
    "    ?pept mnx:peptXref uniprotkb:Q18A79 . # Select all proteins for uniprotkb:Q18A79\n",
    "    ?cata mnx:pept ?pept .                # Select the reaction specific peptide\n",
    "    ?gpr mnx:cata ?cata ;                 # Select all reactions (gpr = Gene-Protein-Reaction)\n",
    "         mnx:reac ?reac .\n",
    "    ?reac mnx:mnxr ?mnxr .                # Get link to indepth information about the reaction identifier\n",
    "    ?reac rdfs:label ?reac_id .           # Get the id of the reaction identifier as a string\n",
    "}"
   ]
  },
  {
   "cell_type": "code",
   "execution_count": 1,
   "id": "ccaa83c4",
   "metadata": {},
   "outputs": [
    {
     "data": {
      "text/html": [
       "<div class=\"krn-spql\"><div class=\"magic\">Endpoint set to: https://rdf.metanetx.org/sparql</div></div>"
      ],
      "text/plain": [
       "Endpoint set to: https://rdf.metanetx.org/sparql\n"
      ]
     },
     "metadata": {},
     "output_type": "display_data"
    },
    {
     "data": {
      "text/html": [
       "<div class=\"krn-spql\"><table><tr class=hdr><th>locus_name</th>\n",
       "<th>reac_id</th>\n",
       "<th>upProtein</th></tr><tr class=odd><td class=val>CD630_23540</td>\n",
       "<td class=val>mnxr157884c3</td>\n",
       "<td class=val><a href=\"http://purl.uniprot.org/uniprot/Q185M5\" target=\"_other\">http://purl.uniprot.org/uniprot/Q185M5</a></td></tr><tr class=even><td class=val>CD630_23510</td>\n",
       "<td class=val>mnxr157884c3</td>\n",
       "<td class=val><a href=\"http://purl.uniprot.org/uniprot/Q185M3\" target=\"_other\">http://purl.uniprot.org/uniprot/Q185M3</a></td></tr><tr class=odd><td class=val>CD630_23520</td>\n",
       "<td class=val>mnxr157884c3</td>\n",
       "<td class=val><a href=\"http://purl.uniprot.org/uniprot/Q185M6\" target=\"_other\">http://purl.uniprot.org/uniprot/Q185M6</a></td></tr><tr class=even><td class=val>CD630_23490</td>\n",
       "<td class=val>mnxr157884c3</td>\n",
       "<td class=val><a href=\"http://purl.uniprot.org/uniprot/Q185M4\" target=\"_other\">http://purl.uniprot.org/uniprot/Q185M4</a></td></tr><tr class=odd><td class=val>CD630_23480</td>\n",
       "<td class=val>mnxr157884c3</td>\n",
       "<td class=val><a href=\"http://purl.uniprot.org/uniprot/Q185M1\" target=\"_other\">http://purl.uniprot.org/uniprot/Q185M1</a></td></tr><tr class=even><td class=val>CD630_23510</td>\n",
       "<td class=val>mnxr162774c3</td>\n",
       "<td class=val><a href=\"http://purl.uniprot.org/uniprot/Q185M3\" target=\"_other\">http://purl.uniprot.org/uniprot/Q185M3</a></td></tr><tr class=odd><td class=val>CD630_23520</td>\n",
       "<td class=val>mnxr162774c3</td>\n",
       "<td class=val><a href=\"http://purl.uniprot.org/uniprot/Q185M6\" target=\"_other\">http://purl.uniprot.org/uniprot/Q185M6</a></td></tr><tr class=even><td class=val>CD630_23490</td>\n",
       "<td class=val>mnxr162774c3</td>\n",
       "<td class=val><a href=\"http://purl.uniprot.org/uniprot/Q185M4\" target=\"_other\">http://purl.uniprot.org/uniprot/Q185M4</a></td></tr><tr class=odd><td class=val>CD630_23480</td>\n",
       "<td class=val>mnxr162774c3</td>\n",
       "<td class=val><a href=\"http://purl.uniprot.org/uniprot/Q185M1\" target=\"_other\">http://purl.uniprot.org/uniprot/Q185M1</a></td></tr></table><div class=\"tinfo\">Total: 9, Shown: 9</div></div>"
      ]
     },
     "metadata": {},
     "output_type": "display_data"
    }
   ],
   "source": [
    "## This must be executed on the https://rdf.metanetx.org/sparql endpoint\n",
    "%endpoint https://rdf.metanetx.org/sparql  \n",
    "\n",
    "## Q10:  What is the official locus name, and the MetaNetX Reaction identifier (mnxr…..) for the protein that has “glycine reductase” catalytic activity in Clostridium difficile (taxon 272563)?\n",
    "## Note: To query the uniprot server, I utilized \"service\", which lets me use the uniprot server no matter the endpoint.\n",
    "\n",
    "PREFIX rdfs: <http://www.w3.org/2000/01/rdf-schema#>\n",
    "PREFIX mnx: <https://rdf.metanetx.org/schema/>\n",
    "PREFIX up: <http://purl.uniprot.org/core/>\n",
    "PREFIX taxonomy: <http://purl.uniprot.org/taxonomy/>\n",
    "\n",
    "SELECT DISTINCT ?locus_name ?reac_id ?upProtein\n",
    "WHERE\n",
    "{\n",
    "    service <http://sparql.uniprot.org/sparql> { \n",
    "        # Same as Q8:\n",
    "        ?upProtein a up:Protein .\n",
    "        ?upProtein up:organism taxonomy:272563 .\n",
    "        ?upProtein up:encodedBy ?gene .\n",
    "        ?gene up:locusName ?locus_name .\n",
    "        ?upProtein up:classifiedWith ?go_info .\n",
    "        ?go_info rdfs:label ?description .\n",
    "        FILTER CONTAINS(LCASE(?description), \"glycine reductase\") .\n",
    "    }\n",
    "    \n",
    "    # Same as Q9:\n",
    "    ?pept mnx:peptXref ?upProtein . \n",
    "    ?cata mnx:pept ?pept .                \n",
    "    ?gpr mnx:cata ?cata ;                 \n",
    "         mnx:reac ?reac .\n",
    "    ?reac rdfs:label ?reac_id .           \n",
    "} "
   ]
  },
  {
   "cell_type": "code",
   "execution_count": null,
   "id": "ab32a6ef",
   "metadata": {},
   "outputs": [],
   "source": []
  }
 ],
 "metadata": {
  "kernelspec": {
   "display_name": "SPARQL",
   "language": "sparql",
   "name": "sparql"
  },
  "language_info": {
   "codemirror_mode": {
    "name": "sparql"
   },
   "mimetype": "application/sparql-query",
   "name": "sparql",
   "pygments_lexer": "sparql-nb"
  }
 },
 "nbformat": 4,
 "nbformat_minor": 5
}
